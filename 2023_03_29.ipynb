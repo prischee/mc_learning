{
  "nbformat": 4,
  "nbformat_minor": 0,
  "metadata": {
    "colab": {
      "provenance": [],
      "authorship_tag": "ABX9TyNW3t7wTWeeDn5TlpbknQYo",
      "include_colab_link": true
    },
    "kernelspec": {
      "name": "python3",
      "display_name": "Python 3"
    },
    "language_info": {
      "name": "python"
    },
    "accelerator": "GPU",
    "gpuClass": "standard"
  },
  "cells": [
    {
      "cell_type": "markdown",
      "metadata": {
        "id": "view-in-github",
        "colab_type": "text"
      },
      "source": [
        "<a href=\"https://colab.research.google.com/github/prischee/mc_learning/blob/prischee/2023_03_29.ipynb\" target=\"_parent\"><img src=\"https://colab.research.google.com/assets/colab-badge.svg\" alt=\"Open In Colab\"/></a>"
      ]
    },
    {
      "cell_type": "markdown",
      "source": [
        "텐서플로우 : 구글이 2015년에 공개한 머신 러닝 오프소스 라이브러리\n",
        "\n",
        "케라스 : 딥 러닝 프레임워크인 텐서플로를 사용하며, 좀 더 쉽게 딥 러닝을 사용할 수 있게 해줌.\n",
        "\n",
        "사이킷 런 : 파이썬 머신러닝 라이브러리, 사이킷 런을 통해 나이브 베이즈 분류, 서포트 벡터 머신 등 다양한 머신 러닝 모듈을 불러올 수 있음."
      ],
      "metadata": {
        "id": "lYU9QHIuSBz-"
      }
    },
    {
      "cell_type": "code",
      "source": [],
      "metadata": {
        "id": "d7hWumVMSPh8"
      },
      "execution_count": null,
      "outputs": []
    }
  ]
}